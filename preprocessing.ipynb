{
 "cells": [
  {
   "attachments": {},
   "cell_type": "markdown",
   "metadata": {},
   "source": [
    "# Preprocessing\n",
    "This class is responsible for optaining and preprocessing the data. Therefore please specify the path to this directory in the first line.\n",
    "Also for gathering own data an openai api key is required which can be created after signing up for free at openai.com\n",
    "This class will create a raw and a preprocessed data csv file in this directory. First we read in the student essays and store them in one column. Then we are creating essays by the topics specified in the topics.csv file with the openai package. At last we are exchanging all the modal tuples specified in the modals.csv table"
   ]
  },
  {
   "cell_type": "code",
   "execution_count": null,
   "metadata": {},
   "outputs": [],
   "source": [
    "import openai\n",
    "import config\n",
    "import re\n",
    "import time\n",
    "import pandas as pd\n",
    "\n",
    "path = \"C:\\\\Speicher\\\\Uni\\\\SocialMediaAnalysis\\\\ChatGBT\\\\\""
   ]
  },
  {
   "cell_type": "code",
   "execution_count": 4,
   "metadata": {},
   "outputs": [
    {
     "ename": "AttributeError",
     "evalue": "module 'config' has no attribute 'Config'",
     "output_type": "error",
     "traceback": [
      "\u001b[1;31m---------------------------------------------------------------------------\u001b[0m",
      "\u001b[1;31mAttributeError\u001b[0m                            Traceback (most recent call last)",
      "Cell \u001b[1;32mIn[4], line 10\u001b[0m\n\u001b[0;32m      7\u001b[0m path \u001b[39m=\u001b[39m \u001b[39m\"\u001b[39m\u001b[39mC:\u001b[39m\u001b[39m\\\\\u001b[39;00m\u001b[39mSpeicher\u001b[39m\u001b[39m\\\\\u001b[39;00m\u001b[39mUni\u001b[39m\u001b[39m\\\\\u001b[39;00m\u001b[39mSocialMediaAnalysis\u001b[39m\u001b[39m\\\\\u001b[39;00m\u001b[39mChatGBT\u001b[39m\u001b[39m\\\\\u001b[39;00m\u001b[39m\"\u001b[39m\n\u001b[0;32m      9\u001b[0m \u001b[39m# Please specify openai api key :https://openai.com/api/\u001b[39;00m\n\u001b[1;32m---> 10\u001b[0m cfg \u001b[39m=\u001b[39m config\u001b[39m.\u001b[39;49mConfig(\u001b[39m'\u001b[39m\u001b[39mC:\u001b[39m\u001b[39m\\\\\u001b[39;00m\u001b[39mSpeicher\u001b[39m\u001b[39m\\\\\u001b[39;00m\u001b[39mUni\u001b[39m\u001b[39m\\\\\u001b[39;00m\u001b[39mSocialMediaAnalysis\u001b[39m\u001b[39m\\\\\u001b[39;00m\u001b[39mnlp\u001b[39m\u001b[39m\\\\\u001b[39;00m\u001b[39mconfig.py\u001b[39m\u001b[39m'\u001b[39m)\n\u001b[0;32m     11\u001b[0m openai\u001b[39m.\u001b[39mapi_key \u001b[39m=\u001b[39m cfg\u001b[39m.\u001b[39mapi_key\n\u001b[0;32m     13\u001b[0m \u001b[39m# We are parsing ascii to not encode chars outside what we are able to process\u001b[39;00m\n",
      "\u001b[1;31mAttributeError\u001b[0m: module 'config' has no attribute 'Config'"
     ]
    }
   ],
   "source": [
    "# Please specify openai api key :https://openai.com/api/\n",
    "cfg = config.Config('C:\\\\Speicher\\\\Uni\\\\SocialMediaAnalysis\\\\nlp\\\\config.py')\n",
    "openai.api_key = cfg.api_key\n",
    "\n",
    "# We are parsing ascii to not encode chars outside what we are able to process\n",
    "def parse_chatGPT (text):\n",
    "    parsed = text.strip().encode(\"ascii\", errors = \"ignore\").decode()\n",
    "    # Adding space before the \\n to disconnect it from the previous word \n",
    "    return re.sub(\"\\n\", \"\\n \", parsed)\n",
    "\n",
    "def chatGPT(text, temp):\n",
    "    # Trying 10 times to post a request otherwise the code crashes\n",
    "    for i in range(1,10,1):\n",
    "        try:\n",
    "            response = openai.Completion.create(\n",
    "            # Specified to use the newest davinci model\n",
    "            engine=\"text-davinci-003\",\n",
    "            prompt=text,\n",
    "            temperature=temp,\n",
    "            # Max length is 4081\n",
    "            max_tokens=4000,\n",
    "            top_p=1,\n",
    "            frequency_penalty=0,\n",
    "            presence_penalty=0\n",
    "            )\n",
    "            print(\"Sucessfully generated essay with topic: \" + text + \" and temperature: \" + str(temp))\n",
    "            break\n",
    "        except Exception as e:\n",
    "            # Waiting to avoid to many request errors from openai\n",
    "            time.sleep(100)\n",
    "            current_time = time.strftime(\"%H:%M:%S\", time.localtime())\n",
    "            print(\"Request failed at time \" + current_time + \" due to: \" + str(e))\n",
    "    # Returning the first choice returned by openai\n",
    "    return parse_chatGPT(response.choices[0].text)\n",
    "\n",
    "def build_prompt(topic):\n",
    "    return str(\"Write me an essay on the topic \" + topic)\n",
    "\n",
    "def read_txt(file_name, path):\n",
    "    with open(path + file_name, encoding='utf-8', errors='ignore') as f:\n",
    "        lines = f.readlines()\n",
    "        return ' '.join(lines[2:])\n",
    "\n",
    "def append_student_essay(datatable, path):\n",
    "    datatable[\"Student Essay\"] = datatable[\"File\"].apply(lambda x: read_txt(x, path))\n",
    "\n",
    "def append_chatgpt_essay(datatable):\n",
    "    datatable[\"ChatGPT Essay 0.2\"] = datatable[\"Topic\"].apply(lambda x: chatGPT(build_prompt(x), 0.2))    \n",
    "    datatable[\"ChatGPT Essay 0.9\"] = datatable[\"Topic\"].apply(lambda x: chatGPT(build_prompt(x), 0.9))\n",
    "\n",
    "def append_length(datatable):\n",
    "    datatable[\"Topic length\"] = datatable[\"Topic\"].apply(lambda x: len(x))\n",
    "    datatable[\"Student Essay length\"] = datatable[\"Student Essay\"].apply(lambda x: len(x))\n",
    "    datatable[\"ChatGPT Essay 0.2 length\"] = datatable[\"ChatGPT Essay 0.2\"].apply(lambda x: len(x))\n",
    "    datatable[\"ChatGPT Essay 0.9 length\"] = datatable[\"ChatGPT Essay 0.9\"].apply(lambda x: len(x))\n",
    "    datatable[\"ChatGPT Essay average length\"] = datatable[[\"ChatGPT Essay 0.2 length\", \"ChatGPT Essay 0.9 length\"]].mean(axis=1)\n",
    "\n",
    "# Specify topics file\n",
    "topics = pd.read_csv(path + \"data\\\\ArgumentAnnotatedEssays-1.0\\\\ArgumentAnnotatedEssays-1.0\\\\topics.csv\", sep=\";\")\n",
    "\n",
    "# Specify location of annotaded essays\n",
    "append_student_essay(topics, path + \"data\\\\ArgumentAnnotatedEssays-1.0\\\\ArgumentAnnotatedEssays-1.0\\\\brat-project\\\\brat-project\\\\\")\n",
    "append_chatgpt_essay(topics)\n",
    "append_length(topics)\n",
    "\n",
    "topics.to_csv(\"raw_data.csv\", encoding=\"UTF-8\", sep=\";\")    \n"
   ]
  },
  {
   "cell_type": "code",
   "execution_count": 5,
   "metadata": {},
   "outputs": [],
   "source": [
    "essays = pd.read_csv(path + \"raw_data.csv\", sep=\";\", encoding=\"UTF-8\")\n",
    "modals = pd.read_csv(path + \"data\\\\modals.csv\", sep=\",\", encoding=\"UTF-8\", header=None)\n",
    "\n",
    "modals[0] = modals[0].apply(lambda x: x.replace('_', ' '))\n",
    "\n",
    "def apply_modal(text):\n",
    "    for modal in modals.itertuples():\n",
    "        if modal[1] in text:\n",
    "            text.replace(modal[1], modal[2])\n",
    "            #print(\"Replaced \" + modal[1] + \" with \" + modal[2])\n",
    "    return text\n",
    "\n",
    "essays[\"Student Essay\"] = essays[\"Student Essay\"].apply(lambda x: apply_modal(x))\n",
    "essays[\"ChatGPT Essay 0.2\"] = essays[\"ChatGPT Essay 0.2\"].apply(lambda x: apply_modal(x))\n",
    "essays[\"ChatGPT Essay 0.9\"] = essays[\"ChatGPT Essay 0.9\"].apply(lambda x: apply_modal(x))\n",
    "\n",
    "essays.to_csv(\"preprocessed_data.csv\", encoding=\"UTF-8\", sep=\";\")"
   ]
  }
 ],
 "metadata": {
  "kernelspec": {
   "display_name": "Python 3",
   "language": "python",
   "name": "python3"
  },
  "language_info": {
   "codemirror_mode": {
    "name": "ipython",
    "version": 3
   },
   "file_extension": ".py",
   "mimetype": "text/x-python",
   "name": "python",
   "nbconvert_exporter": "python",
   "pygments_lexer": "ipython3",
   "version": "3.9.4"
  },
  "orig_nbformat": 4,
  "vscode": {
   "interpreter": {
    "hash": "13d1b7a68f87931e764d28fa092a9ce7ed2adcf998a5b078118e59bb5f12c480"
   }
  }
 },
 "nbformat": 4,
 "nbformat_minor": 2
}
